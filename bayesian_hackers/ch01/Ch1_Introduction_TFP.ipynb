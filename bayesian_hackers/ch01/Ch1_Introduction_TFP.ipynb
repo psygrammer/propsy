{
 "cells": [
  {
   "cell_type": "markdown",
   "metadata": {
    "colab_type": "text",
    "deletable": true,
    "editable": true,
    "id": "6Tmmlr92MZVj",
    "slideshow": {
     "slide_type": "slide"
    }
   },
   "source": [
    "# Probabilistic Programming and Bayesian Methods for Hackers Chapter 1\n",
    "\n",
    "<table class=\"tfo-notebook-buttons\" align=\"left\">\n",
    "  <td>\n",
    "    <a target=\"_blank\" href=\"https://colab.research.google.com/github/CamDavidsonPilon/Probabilistic-Programming-and-Bayesian-Methods-for-Hackers/blob/master/Chapter1_Introduction/Ch1_Introduction_TFP.ipynb\"><img height=\"32px\" src=\"https://colab.research.google.com/img/colab_favicon.ico\" />Run in Google Colab</a>\n",
    "  </td>\n",
    "  <td>\n",
    "    <a target=\"_blank\" href=\"https://github.com/CamDavidsonPilon/Probabilistic-Programming-and-Bayesian-Methods-for-Hackers/blob/master/Chapter1_Introduction/Ch1_Introduction_TFP.ipynb\"><img src=\"https://www.tensorflow.org/images/GitHub-Mark-32px.png\" />View source on GitHub</a>\n",
    "  </td>\n",
    "</table>\n",
    "<br>\n",
    "<br>\n",
    "<br>\n",
    "\n",
    "Original content ([this Jupyter notebook](https://nbviewer.jupyter.org/github/CamDavidsonPilon/Probabilistic-Programming-and-Bayesian-Methods-for-Hackers/blob/master/Chapter1_Introduction/Ch1_Introduction_PyMC2.ipynb)) created by Cam Davidson-Pilon ([`@Cmrn_DP`](https://twitter.com/Cmrn_DP))\n",
    "\n",
    "Ported to [Tensorflow Probability](https://www.tensorflow.org/probability/) by Matthew McAteer ([`@MatthewMcAteer0`](https://twitter.com/MatthewMcAteer0)) and Bryan Seybold, with help from the TFP team at  Google ([`tfprobability@tensorflow.org`](mailto:tfprobability@tensorflow.org)).\n",
    "\n",
    "Welcome to Bayesian Methods for Hackers. The full Github repository is available at [github/Probabilistic-Programming-and-Bayesian-Methods-for-Hackers](https://github.com/CamDavidsonPilon/Probabilistic-Programming-and-Bayesian-Methods-for-Hackers). The other chapters can be found on the project's [homepage](https://camdavidsonpilon.github.io/Probabilistic-Programming-and-Bayesian-Methods-for-Hackers/). We hope you enjoy the book, and we encourage any contributions!\n",
    "\n",
    "---\n",
    "\n",
    "- [Dependencies & Prerequisites](#scrollTo=YcJ8nEDVH30J)\n",
    "- [The Philosophy of Bayesian Inference](#scrollTo=dXqjzSnXRRr3)\n",
    "- [The Bayesian state of mind](#scrollTo=YO2eSwZQRRqv)\n",
    "- [Bayesian Inference in Practice](#scrollTo=FXUBMaYsRWvl)\n",
    "- [Are frequentist methods incorrect then?](#scrollTo=rACyvZBVdqB9)\n",
    "- [Our Bayesian framework](#scrollTo=TTUDkI8peKw6)\n",
    "- [Example: Mandatory coin-flip example](#scrollTo=DkB3Ou8UjW-F)\n",
    "- [Example: Bug, or just sweet, unintended feature?](#scrollTo=5UKnxit-mevN)\n",
    "- [Probability Distributions](#scrollTo=2zNt6157C0Cr)\n",
    "  - [Discrete Case](#scrollTo=xG03a_sgDRlc)\n",
    "- [Continuous Case](#scrollTo=ipS19FlBEmqK)\n",
    "- [But what is $\\lambda \\;$?](#scrollTo=_1fhqQhAFLkk)\n",
    "  - [Example: Inferring behaviour from text-message data](#scrollTo=JrRddMMfHHKJ)\n",
    "- [Introducing our first hammer: Tensorflow Probability](#scrollTo=mCz2BozPcYNy)\n",
    "- [specify the joint log-density](#scrollTo=gYVjgZQ3hOw-)\n",
    "- [Specify the posterior sampler](#scrollTo=KnyDyY8Tjyiy)\n",
    "- [Execute the TF graph to sample from the posterior](#scrollTo=N1mb2NDUkJLU)\n",
    "- [Plot the Results](#scrollTo=vIxEqx9qkhWr)\n",
    "- [Interpretation](#scrollTo=FfiTXgF80sDA)\n",
    "- [Exercises](#scrollTo=cgCrDy8M3IZT)\n",
    "- [References](#scrollTo=nDdph0r1ABCn)"
   ]
  },
  {
   "cell_type": "markdown",
   "metadata": {
    "colab_type": "text",
    "deletable": true,
    "editable": true,
    "id": "YcJ8nEDVH30J"
   },
   "source": [
    "### Dependencies & Prerequisites"
   ]
  },
  {
   "cell_type": "code",
   "execution_count": null,
   "metadata": {
    "collapsed": true
   },
   "outputs": [],
   "source": [
    "import warnings\n",
    "warnings.filterwarnings('ignore')"
   ]
  },
  {
   "cell_type": "code",
   "execution_count": null,
   "metadata": {
    "colab": {
     "base_uri": "https://localhost:8080/",
     "height": 34
    },
    "colab_type": "code",
    "collapsed": false,
    "deletable": true,
    "editable": true,
    "id": "s0TbzB02KZK8",
    "outputId": "ab5c4baf-ea11-492c-a223-b365744a14cd"
   },
   "outputs": [],
   "source": [
    "#@title Tensorflow Probability Installation (make sure to run this cell)  { display-mode: \"form\" }\n",
    "TFP_Installation = \"Most Recent TFP\" #@param [\"Most Recent TFP\", \"Stable TFP\", \"Stable TFP-GPU\", \"Most Recent TFP-GPU\", \"TFP Already Installed\"]\n",
    "\n",
    "if TFP_Installation == \"Stable TFP\":\n",
    "    !pip3 install -q --upgrade tensorflow-probability\n",
    "    print(\"Up-to-date, stable  TFP version installed\")\n",
    "elif TFP_Installation == \"Most Recent TFP\":\n",
    "    !pip3 install -q tfp-nightly\n",
    "    print(\"Most recent TFP version installed\")\n",
    "elif TFP_Installation == \"Stable TFP-GPU\":\n",
    "    !pip3 install -q --upgrade tensorflow-probability-gpu\n",
    "    print(\"Up-to-date, stable TFP-GPU version installed\")\n",
    "    print(\"(make sure GPU is properly configured)\")\n",
    "elif TFP_Installation == \"Most Recent TFP-GPU\":\n",
    "    !pip3 install -q tfp-nightly-gpu\n",
    "    print(\"Most recent TFP-GPU version installed\")\n",
    "    print(\"(make sure GPU is properly configured)\")\n",
    "elif TFP_Installation == \"TFP Already Installed\":\n",
    "    print(\"TFP already instaled in this environment\")\n",
    "    pass\n",
    "else:\n",
    "    print(\"Installation Error: Please select a viable TFP installation option.\")\n"
   ]
  },
  {
   "cell_type": "code",
   "execution_count": null,
   "metadata": {
    "colab": {},
    "colab_type": "code",
    "collapsed": false,
    "deletable": true,
    "editable": true,
    "id": "RUEQ5hdvKZLB"
   },
   "outputs": [],
   "source": [
    "#@title Imports and Global Variables (make sure to run this cell)  { display-mode: \"form\" }\n",
    "from __future__ import absolute_import, division, print_function\n",
    "\n",
    "warning_status = \"ignore\" #@param [\"ignore\", \"always\", \"module\", \"once\", \"default\", \"error\"]\n",
    "import warnings\n",
    "warnings.filterwarnings(warning_status)\n",
    "with warnings.catch_warnings():\n",
    "    warnings.filterwarnings(warning_status, category=DeprecationWarning)\n",
    "    warnings.filterwarnings(warning_status, category=UserWarning)\n",
    "\n",
    "import numpy as np\n",
    "import os\n",
    "matplotlib_style = 'fivethirtyeight' #@param ['fivethirtyeight', 'bmh', 'ggplot', 'seaborn', 'default', 'Solarize_Light2', 'classic', 'dark_background', 'seaborn-colorblind', 'seaborn-notebook']\n",
    "import matplotlib.pyplot as plt; plt.style.use(matplotlib_style)\n",
    "import matplotlib.axes as axes;\n",
    "from matplotlib.patches import Ellipse\n",
    "%matplotlib inline\n",
    "import seaborn as sns; sns.set_context('notebook')\n",
    "from IPython.core.pylabtools import figsize\n",
    "notebook_screen_res = 'retina' #@param ['retina', 'png', 'jpeg', 'svg', 'pdf']\n",
    "%config InlineBackend.figure_format = notebook_screen_res\n",
    "\n",
    "import tensorflow as tf\n",
    "tfe = tf.contrib.eager\n",
    "\n",
    "# Eager Execution\n",
    "use_tf_eager = False #@param {type:\"boolean\"}\n",
    "\n",
    "# Use try/except so we can easily re-execute the whole notebook.\n",
    "if use_tf_eager:\n",
    "  try:\n",
    "    tf.enable_eager_execution()\n",
    "  except:\n",
    "    pass\n",
    "\n",
    "import tensorflow_probability as tfp\n",
    "tfd = tfp.distributions\n",
    "tfb = tfp.bijectors\n",
    "\n",
    "  \n",
    "def evaluate(tensors):\n",
    "  \"\"\"Evaluates Tensor or EagerTensor to Numpy `ndarray`s.\n",
    "  Args:\n",
    "  tensors: Object of `Tensor` or EagerTensor`s; can be `list`, `tuple`,\n",
    "    `namedtuple` or combinations thereof.\n",
    " \n",
    "  Returns:\n",
    "    ndarrays: Object with same structure as `tensors` except with `Tensor` or\n",
    "      `EagerTensor`s replaced by Numpy `ndarray`s.\n",
    "  \"\"\"\n",
    "  if tf.executing_eagerly():\n",
    "    return tf.contrib.framework.nest.pack_sequence_as(\n",
    "        tensors,\n",
    "        [t.numpy() if tf.contrib.framework.is_tensor(t) else t\n",
    "         for t in tf.contrib.framework.nest.flatten(tensors)])\n",
    "  return sess.run(tensors)\n",
    "\n",
    "class _TFColor(object):\n",
    "    \"\"\"Enum of colors used in TF docs.\"\"\"\n",
    "    red = '#F15854'\n",
    "    blue = '#5DA5DA'\n",
    "    orange = '#FAA43A'\n",
    "    green = '#60BD68'\n",
    "    pink = '#F17CB0'\n",
    "    brown = '#B2912F'\n",
    "    purple = '#B276B2'\n",
    "    yellow = '#DECF3F'\n",
    "    gray = '#4D4D4D'\n",
    "    def __getitem__(self, i):\n",
    "        return [\n",
    "            self.red,\n",
    "            self.orange,\n",
    "            self.green,\n",
    "            self.blue,\n",
    "            self.pink,\n",
    "            self.brown,\n",
    "            self.purple,\n",
    "            self.yellow,\n",
    "            self.gray,\n",
    "        ][i % 9]\n",
    "TFColor = _TFColor()\n",
    "\n",
    "def session_options(enable_gpu_ram_resizing=True, enable_xla=True):\n",
    "    \"\"\"\n",
    "    Allowing the notebook to make use of GPUs if they're available.\n",
    "    \n",
    "    XLA (Accelerated Linear Algebra) is a domain-specific compiler for linear \n",
    "    algebra that optimizes TensorFlow computations.\n",
    "    \"\"\"\n",
    "    config = tf.ConfigProto()\n",
    "    config.log_device_placement = True\n",
    "    if enable_gpu_ram_resizing:\n",
    "        # `allow_growth=True` makes it possible to connect multiple colabs to your\n",
    "        # GPU. Otherwise the colab malloc's all GPU ram.\n",
    "        config.gpu_options.allow_growth = True\n",
    "    if enable_xla:\n",
    "        # Enable on XLA. https://www.tensorflow.org/performance/xla/.\n",
    "        config.graph_options.optimizer_options.global_jit_level = (\n",
    "            tf.OptimizerOptions.ON_1)\n",
    "    return config\n",
    "\n",
    "\n",
    "def reset_sess(config=None):\n",
    "    \"\"\"\n",
    "    Convenience function to create the TF graph & session or reset them.\n",
    "    \"\"\"\n",
    "    if config is None:\n",
    "        config = session_options()\n",
    "    global sess\n",
    "    tf.reset_default_graph()\n",
    "    try:\n",
    "        sess.close()\n",
    "    except:\n",
    "        pass\n",
    "    sess = tf.InteractiveSession(config=config)\n",
    "\n",
    "reset_sess()"
   ]
  },
  {
   "cell_type": "markdown",
   "metadata": {
    "colab_type": "text",
    "deletable": true,
    "editable": true,
    "id": "dXqjzSnXRRr3"
   },
   "source": [
    "## The Philosophy of Bayesian Inference\n",
    "\n",
    ">You are a skilled programmer, but bugs still slip into your code. After a particularly difficult implementation of an algorithm, you decide to test your code on a trivial example. It passes. You test the code on a harder problem. It passes once again. And it passes the next, even more difficult, test too! You are starting to believe that there may be no bugs in this code...\n",
    "\n",
    "If you think this way, then congratulations, you already are thinking Bayesian! Bayesian inference is simply updating your beliefs after considering new evidence. A Bayesian can rarely be certain about a result, but he or she can be very confident. Just like in the example above, we can never be 100% sure that our code is bug-free unless we test it on every possible problem; something rarely possible in practice. Instead, we can test it on a large number of problems, and if it succeeds we can feel more confident about our code, but still not certain. Bayesian inference works identically: we update our beliefs about an outcome; rarely can we be absolutely sure unless we rule out all other alternatives.\n",
    "\n"
   ]
  },
  {
   "cell_type": "markdown",
   "metadata": {
    "colab_type": "text",
    "deletable": true,
    "editable": true,
    "id": "YO2eSwZQRRqv"
   },
   "source": [
    "## The Bayesian state of mind\n",
    "* uncertainty \n",
    "* certainty\n",
    "* probability as measure of *believability in an event*\n",
    "* *Frequentist*, known as the more *classical* version of statistics\n",
    "    - probability is the long-run frequency of events (hence the bestowed title)\n",
    "* Bayesians, on the other hand, have a more intuitive approach. \n",
    "    - Bayesians interpret a probability as measure of *belief*, or confidence, of an event occurring\n",
    "* I flip a coin \n",
    "* Your code either has a bug in it or not\n",
    "* A medical patient is exhibiting symptoms $x$, $y$ and $z$. \n",
    "* To align ourselves with traditional probability notation, we denote our belief about event $A$ as $P(A)$. We call this quantity the *prior probability*.\n",
    "* John Maynard Keynes, a great economist and thinker, said \"When the facts change, I change my mind. What do you do, sir?\"\n",
    "* We denote our updated belief as $P(A |X )$, interpreted as the probability of $A$ given the evidence $X$. \n",
    "* We call the updated belief the *posterior probability* so as to contrast it with the prior probability. \n",
    "    - For example, consider the posterior probabilities (read: posterior beliefs) of the above examples, after observing some evidence $X$:\n",
    "        - 1\\. $P(A): \\;\\;$ the coin has a 50 percent chance of being Heads. $P(A | X):\\;\\;$ You look at the coin, observe a Heads has landed, denote this information $X$, and trivially assign probability 1.0 to Heads and 0.0 to Tails.\n",
    "        - 2\\.   $P(A): \\;\\;$  This big, complex code likely has a bug in it. $P(A | X): \\;\\;$ The code passed all $X$ tests; there still might be a bug, but its presence is less likely now.\n",
    "        - 3\\.  $P(A):\\;\\;$ The patient could have any number of diseases. $P(A | X):\\;\\;$ Performing a blood test generated evidence $X$, ruling out some of the possible diseases from consideration.\n",
    "* *re-weighted the prior* to incorporate the new evidence \n",
    "* After observing data, evidence, or other information, we update our beliefs, and our guess becomes *less wrong*. This is the alternative side of the prediction coin, where typically we try to be *more right*. \n"
   ]
  },
  {
   "cell_type": "markdown",
   "metadata": {
    "colab_type": "text",
    "deletable": true,
    "editable": true,
    "id": "FXUBMaYsRWvl"
   },
   "source": [
    "## Bayesian Inference in Practice\n",
    "* The frequentist inference function \n",
    "    - would return a number, representing an estimate (typically a summary statistic like the sample average etc.), \n",
    "* The Bayesian function \n",
    "    - would return *probabilities*.\n",
    "* For example, in our debugging problem above, \n",
    "    - calling the frequentist function with the argument \"My code passed all $X$ tests; is my code bug-free?\" \n",
    "        - would return a *YES*. \n",
    "    - On the other hand, asking our Bayesian function \"Often my code has bugs. My code passed all $X$ tests; is my code bug-free?\" \n",
    "        - would return something very different: probabilities of *YES* and *NO*. The function might return:\n",
    "        - *YES*, with probability 0.8; *NO*, with probability 0.2\n",
    "\n",
    "### Incorporating evidence\n",
    "* Denote $N$ as the number of instances of evidence we possess. \n",
    "* As we gather an *infinite* amount of evidence, say as $N \\rightarrow \\infty$, \n",
    "    - our Bayesian results (often) align with frequentist results. \n",
    "    - Hence for large $N$, statistical inference is more or less objective. \n",
    "* On the other hand, for small $N$, inference is much more *unstable*: \n",
    "    - frequentist estimates have more variance and larger confidence intervals. \n",
    "    - This is where Bayesian analysis excels. \n",
    "        - By introducing a prior, \n",
    "        - and returning probabilities (instead of a scalar estimate), \n",
    "        - we *preserve the uncertainty* that reflects the instability of statistical inference of a small $N$ dataset. \n",
    "\n"
   ]
  },
  {
   "cell_type": "markdown",
   "metadata": {
    "colab_type": "text",
    "deletable": true,
    "editable": true,
    "id": "rACyvZBVdqB9"
   },
   "source": [
    "## Are frequentist methods incorrect then?\n",
    "No.\n",
    "\n",
    "Frequentist methods are still useful or state-of-the-art in many areas. Tools such as least squares linear regression, LASSO regression, and expectation-maximization algorithms are all powerful and fast. Bayesian methods complement these techniques by solving problems that these approaches cannot, or by illuminating the underlying system with more flexible modeling.\n",
    "\n",
    "### A note on *Big Data*\n",
    "Paradoxically, big data's predictive analytic problems are actually solved by relatively simple algorithms [[2]](#scrollTo=nDdph0r1ABCn)[[3]](#scrollTo=nDdph0r1ABCn). Thus we can argue that big data's prediction difficulty does not lie in the algorithm used, but instead on the computational difficulties of storage and execution on big data. (One should also consider Gelman's quote from above and ask \"Do I really have big data?\")\n",
    "\n",
    "The much more difficult analytic problems involve medium data and, especially troublesome, really small data. Using a similar argument as Gelman's above, if big data problems are big enough to be readily solved, then we should be more interested in the not-quite-big enough datasets."
   ]
  },
  {
   "cell_type": "markdown",
   "metadata": {
    "colab_type": "text",
    "deletable": true,
    "editable": true,
    "id": "TTUDkI8peKw6"
   },
   "source": [
    "## Our Bayesian framework\n",
    "We are interested in beliefs, which can be interpreted as probabilities by thinking Bayesian. We have a prior belief in event A, beliefs formed by previous information, e.g., our prior belief about bugs being in our code before performing tests.\n",
    "\n",
    "Secondly, we observe our evidence. To continue our buggy-code example: if our code passes X tests, we want to update our belief to incorporate this. We call this new belief the posterior probability. Updating our belief is done via the following equation, known as Bayes' Theorem, after its discoverer Thomas Bayes:\n",
    "\n",
    "$$ P(A|X) = \\frac{P(X | A) P(A) }{P(X) } $$\n",
    "\n",
    "$$ P(A|X) \\propto{P(X | A) P(A) } $$\n",
    "\n",
    "NOTE: ($\\propto$ is \"proportional to\")\n",
    "\n",
    "\n",
    "The above formula is not unique to Bayesian inference: it is a mathematical fact with uses outside Bayesian inference. Bayesian inference merely uses it to connect prior probabilities $P(A)$ with an updated posterior probabilities $P(A|X)$."
   ]
  },
  {
   "cell_type": "markdown",
   "metadata": {
    "colab_type": "text",
    "deletable": true,
    "editable": true,
    "id": "DkB3Ou8UjW-F"
   },
   "source": [
    "\n",
    "## Example: Mandatory coin-flip example\n",
    "Every statistics text must contain a coin-flipping example, I'll use it here to get it out of the way. Suppose, naively, that you are unsure about the probability of heads in a coin flip (spoiler alert: it's 50%). You believe there is some true underlying ratio, call it p, but have no prior opinion on what p might be.\n",
    "\n",
    "We begin to flip a coin, and record the observations: either H or T. This is our observed data. An interesting question to ask is how our inference changes as we observe more and more data? More specifically, what do our posterior probabilities look like when we have little data, versus when we have lots of data.\n",
    "\n",
    "Below we plot a sequence of updating posterior probabilities as we observe increasing amounts of data (coin flips), while also demonstrating some of the best practices when it comes to evaluating tensors and plotting the data. First, the easy part: We define the values in our Tensorflow graph"
   ]
  },
  {
   "cell_type": "code",
   "execution_count": null,
   "metadata": {
    "colab": {},
    "colab_type": "code",
    "collapsed": false,
    "deletable": true,
    "editable": true,
    "id": "yFd9GboD7hVV"
   },
   "outputs": [],
   "source": [
    "# Build graph.\n",
    "probs_of_heads = tf.linspace(start=0., stop=1., num=100, name=\"linspace\")\n",
    "n_trials_ = [0, 1, 2, 3, 4, 5, 8, 15, 50, 500, 1000, 2000]\n",
    "coin_flip_prior = tfp.distributions.Bernoulli(probs=0.5)\n",
    "coin_flip_data = coin_flip_prior.sample(n_trials_[-1])\n",
    "\n",
    "n_trials_unpacked = tf.unstack(tf.constant(n_trials_))\n",
    "counted = []       # this will be the list of processed head count tensors\n",
    "for k, N in enumerate(n_trials_):\n",
    "    result_tensor = tf.reduce_sum(coin_flip_data[:N])\n",
    "    counted.append(result_tensor)\n",
    "\n",
    "headcounts = tf.stack(counted, 0)\n",
    "\n",
    "observed_head_probs = []       # this will be the list of processed probability tensors\n",
    "for k, N in enumerate(n_trials_):\n",
    "    result_tensor = tfp.distributions.Beta(\n",
    "                    concentration1 = tf.to_float(1 + headcounts[k]),\n",
    "                    concentration0 = tf.to_float(1 + n_trials_[k] - headcounts[k])).prob(probs_of_heads)\n",
    "    observed_head_probs.append(result_tensor)\n",
    "\n",
    "observed_probs_heads = tf.stack(observed_head_probs, 0)"
   ]
  },
  {
   "cell_type": "markdown",
   "metadata": {
    "colab_type": "text",
    "deletable": true,
    "editable": true,
    "id": "eVh-ugqN8NRy"
   },
   "source": [
    "Next we move onto executing the graph. When it comes to calculations that need to be made frequently and repeatedly, this method of first-defining and then executing graphs provides a handy speed boost. We can actually use a custom `evaluate()` function that allows us to evaluate tensors whether we are operating in TF Graph mode, or whether we have Eager mode active. The function looks like the following:\n",
    "\n",
    "```python\n",
    "\n",
    "def evaluate(tensors):\n",
    "    \"\"\"Evaluates Tensor or EagerTensor to Numpy `ndarray`s.\n",
    "    Args:\n",
    "    tensors: Object of `Tensor` or EagerTensor`s; can be `list`, `tuple`,\n",
    "      `namedtuple` or combinations thereof.\n",
    "\n",
    "    Returns:\n",
    "      ndarrays: Object with same structure as `tensors` except with `Tensor` or\n",
    "        `EagerTensor`s replaced by Numpy `ndarray`s.\n",
    "    \"\"\"\n",
    "    if tf.executing_eagerly():\n",
    "        return tf.contrib.framework.nest.pack_sequence_as(\n",
    "            tensors,\n",
    "            [t.numpy() if tf.contrib.framework.is_tensor(t) else t\n",
    "             for t in tf.contrib.framework.nest.flatten(tensors)])\n",
    "    return sess.run(tensors)\n",
    "\n",
    "```\n",
    "\n",
    "To plot the tensors, we need to convert them into numpy variables. One handy way of associating tensors with their corrresponding numpy variables is to append an underscore to the numpy-like arrays. For example, if the input to `evaluate()` is `variable`, then we assign that value to `variable_`. Below we see an example of how we use both `evaluate()`  and this new styling."
   ]
  },
  {
   "cell_type": "code",
   "execution_count": null,
   "metadata": {
    "colab": {},
    "colab_type": "code",
    "collapsed": false,
    "deletable": true,
    "editable": true,
    "id": "Ex3djpOu7_-m"
   },
   "outputs": [],
   "source": [
    "# Execute graph\n",
    "[\n",
    "    n_trials_unpacked_,\n",
    "    coin_flip_data_,\n",
    "    probs_of_heads_,\n",
    "    headcounts_,\n",
    "    observed_probs_heads_,\n",
    "] = evaluate([\n",
    "    n_trials_unpacked,\n",
    "    coin_flip_data,\n",
    "    probs_of_heads,\n",
    "    headcounts,\n",
    "    observed_probs_heads,\n",
    "])"
   ]
  },
  {
   "cell_type": "markdown",
   "metadata": {
    "colab_type": "text",
    "deletable": true,
    "editable": true,
    "id": "IUAm6LEA8FFW"
   },
   "source": [
    "Finally, we move onto plotting our evaluated tensors in matplotlib."
   ]
  },
  {
   "cell_type": "code",
   "execution_count": null,
   "metadata": {
    "colab": {
     "base_uri": "https://localhost:8080/",
     "height": 677
    },
    "colab_type": "code",
    "collapsed": false,
    "deletable": true,
    "editable": true,
    "id": "4fdWiFUT6H-A",
    "outputId": "b59eed3e-7b74-4556-96cc-12deb8724cce"
   },
   "outputs": [],
   "source": [
    "# For the already prepared, I'm using Binomial's conj. prior.\n",
    "\n",
    "plt.figure(figsize(16, 9))\n",
    "for i in range(len(n_trials_)):\n",
    "    sx = plt.subplot(len(n_trials_)/2, 2, i+1)\n",
    "    plt.xlabel(\"$p$, probability of heads\") \\\n",
    "    if i in [0, len(n_trials_)-1] else None\n",
    "    plt.setp(sx.get_yticklabels(), visible=False)\n",
    "    plt.plot(probs_of_heads_, observed_probs_heads_[i], \n",
    "             label=\"observe %d tosses,\\n %d heads\" % (n_trials_[i], headcounts_[i]))\n",
    "    plt.fill_between(probs_of_heads_, 0, observed_probs_heads_[i], \n",
    "                     color=TFColor[3], alpha=0.4)\n",
    "    plt.vlines(0.5, 0, 4, color=\"k\", linestyles=\"--\", lw=1)\n",
    "    leg = plt.legend()\n",
    "    leg.get_frame().set_alpha(0.4)\n",
    "    plt.autoscale(tight=True)\n",
    "\n",
    "\n",
    "plt.suptitle(\"Bayesian updating of posterior probabilities\", y=1.02,\n",
    "             fontsize=14)\n",
    "plt.tight_layout()"
   ]
  },
  {
   "cell_type": "markdown",
   "metadata": {
    "colab_type": "text",
    "deletable": true,
    "editable": true,
    "id": "jTqKXlGRmKuh"
   },
   "source": [
    "The posterior probabilities are represented by the curves, and our uncertainty is proportional to the width of the curve. As the plot above shows, as we start to observe data our posterior probabilities start to shift and move around. Eventually, as we observe more and more data (coin-flips), our probabilities will tighten closer and closer around the true value of $p=0.5$ (marked by a dashed line).\n",
    "\n",
    "Notice that the plots are not always peaked at 0.5. There is no reason it should be: recall we assumed we did not have a prior opinion of what p is. In fact, if we observe quite extreme data, say 8 flips and only 1 observed heads, our distribution would look very biased away from lumping around 0.5 (with no prior opinion, how confident would you feel betting on a fair coin after observing 8 tails and 1 head?). As more data accumulates, we would see more and more probability being assigned at $p=0.5$, though never all of it.\n",
    "\n",
    "The next example is a simple demonstration of the mathematics of Bayesian inference."
   ]
  },
  {
   "cell_type": "markdown",
   "metadata": {
    "colab_type": "text",
    "deletable": true,
    "editable": true,
    "id": "5UKnxit-mevN"
   },
   "source": [
    "## Example: Bug, or just sweet, unintended feature?\n",
    "Let $A$ denote the event that our code has no bugs in it. Let $X$ denote the event that the code passes all debugging tests. For now, we will leave the prior probability of no bugs as a variable, i.e. $P(A)=p$.\n",
    "\n",
    "We are interested in $P(A|X)$, i.e. the probability of no bugs, given our debugging tests $X$. To use the formula above, we need to compute some quantities.\n",
    "\n",
    "What is $P(X|A)$, i.e., the probability that the code passes $X$ tests given there are no bugs? Well, it is equal to 1, for a code with no bugs will pass all tests.\n",
    "\n",
    "$P(X)$ is a little bit trickier: The event $X$ can be divided into two possibilities, event X occurring even though our code indeed has bugs (denoted $∼A$, spoken not $A$), or event $X$ without bugs $(A)$. $ P(X)$ can be represented as:"
   ]
  },
  {
   "cell_type": "markdown",
   "metadata": {
    "colab_type": "text",
    "deletable": true,
    "editable": true,
    "id": "7rDu4o6DnjT7"
   },
   "source": [
    "$$ \\begin{align*}\n",
    "P(A|X) &= \\frac{P(X | A) P(A) }{P(X) } \\\\\n",
    " P(X) &= P(X \\text{ and } A) + P(X \\text{ and } \\sim A) \\\\\n",
    "  &= P(X|A)P(A) + P(X | \\sim A)P(\\sim A) \\\\\n",
    "  &= P(X|A)p + P(X | \\sim A)(1-p) \\end{align*} $$\n"
   ]
  },
  {
   "cell_type": "markdown",
   "metadata": {
    "colab_type": "text",
    "deletable": true,
    "editable": true,
    "id": "S48e_3wph3I_"
   },
   "source": [
    "We have already computed $P(X|A)$ above. On the other hand, $P(X|∼A)$ is subjective: our code can pass tests but still have a bug in it, though the probability there is a bug present is reduced. Note this is dependent on the number of tests performed, the degree of complication in the tests, etc. Let's be conservative and assign $P(X|∼A)=0.5$. Then:\n",
    "\n",
    "$$ \\begin{align*}\n",
    "P(A | X) &= \\frac{1\\cdot p}{ 1\\cdot p +0.5 (1-p) } \\\\\n",
    "&= \\frac{ 2 p}{1+p} \\end{align*} $$\n",
    "\n",
    "This is the posterior probability. What does it look like as a function of our prior, $p∈[0,1]$?"
   ]
  },
  {
   "cell_type": "code",
   "execution_count": null,
   "metadata": {
    "colab": {
     "base_uri": "https://localhost:8080/",
     "height": 404
    },
    "colab_type": "code",
    "collapsed": false,
    "deletable": true,
    "editable": true,
    "id": "MwjluXPenvAy",
    "outputId": "d36a0c50-239b-4088-a2a2-7d12a84f0308"
   },
   "outputs": [],
   "source": [
    "# Defining our range of probabilities\n",
    "p = tf.linspace(start=0., stop=1., num=50)\n",
    "\n",
    "# Convert from TF to numpy.\n",
    "[p_] = evaluate([p])\n",
    "\n",
    "# Visualization.\n",
    "plt.figure(figsize=(12.5, 6))\n",
    "plt.plot(p_, 2*p_/(1+p_), color=TFColor[3], lw=3)\n",
    "#plt.fill_between(p, 2*p/(1+p), alpha=.5, facecolor=[\"#A60628\"])\n",
    "plt.scatter(0.2, 2*(0.2)/1.2, s=140, c=TFColor[3])\n",
    "plt.xlim(0, 1)\n",
    "plt.ylim(0, 1)\n",
    "plt.xlabel(r\"Prior, $P(A) = p$\")\n",
    "plt.ylabel(r\"Posterior, $P(A|X)$, with $P(A) = p$\")\n",
    "plt.title(r\"Are there bugs in my code?\");"
   ]
  },
  {
   "cell_type": "markdown",
   "metadata": {
    "colab_type": "text",
    "deletable": true,
    "editable": true,
    "id": "dvcD8UWloYxn"
   },
   "source": [
    "We can see the biggest gains if we observe the $X$ tests passed when the prior probability, $p$, is low. Let's settle on a specific value for the prior. I'm a strong programmer (I think), so I'm going to give myself a realistic prior of 0.20, that is, there is a 20% chance that I write code bug-free. To be more realistic, this prior should be a function of how complicated and large the code is, but let's pin it at 0.20. Then my updated belief that my code is bug-free is 0.33.\n",
    "\n",
    "Recall that the prior is a probability: $p$ is the prior probability that there are no bugs, so $1−p$ is the prior probability that there are bugs.\n",
    "\n",
    "Similarly, our posterior is also a probability, with $P(A|X)$ the probability there is no bug given we saw all tests pass, hence $1−P(A|X)$ is the probability there is a bug given all tests passed. What does our posterior probability look like? Below is a chart of both the prior and the posterior probabilities."
   ]
  },
  {
   "cell_type": "code",
   "execution_count": null,
   "metadata": {
    "colab": {
     "base_uri": "https://localhost:8080/",
     "height": 279
    },
    "colab_type": "code",
    "collapsed": false,
    "deletable": true,
    "editable": true,
    "id": "Aot_QO3n1r4o",
    "outputId": "3a2c2228-cd81-43fa-c3c9-31df2c4d754c"
   },
   "outputs": [],
   "source": [
    "# Defining our priors and posteriors\n",
    "prior = tf.constant([0.20, 0.80])\n",
    "posterior = tf.constant([1./3, 2./3])\n",
    "\n",
    "# Convert from TF to numpy.\n",
    "[\n",
    "    prior_,\n",
    "    posterior_,\n",
    "] = evaluate([\n",
    "    prior,\n",
    "    posterior,\n",
    "])\n",
    "\n",
    "\n",
    "# Our Simple Visualization\n",
    "plt.figure(figsize=(12.5, 4))\n",
    "colours = [TFColor[0], TFColor[3]]\n",
    "plt.bar([0, .7], prior_, alpha=0.70, width=0.25,\n",
    "        color=colours[0], label=\"prior distribution\",\n",
    "        lw=\"3\", edgecolor=colours[0])\n",
    "plt.bar([0+0.25, .7+0.25], posterior_, alpha=0.7,\n",
    "        width=0.25, color=colours[1],\n",
    "        label=r\"posterior distribution\",\n",
    "        lw=\"3\", edgecolor=colours[1])\n",
    "\n",
    "plt.xticks([0.20, .95], [\"Bugs Absent\", \"Bugs Present\"])\n",
    "plt.title(r\"Prior and Posterior probability of bugs present\")\n",
    "plt.ylabel(\"Probability\")\n",
    "plt.legend(loc=\"upper left\");"
   ]
  },
  {
   "cell_type": "markdown",
   "metadata": {
    "colab_type": "text",
    "deletable": true,
    "editable": true,
    "id": "Xl6KbBeoCkiM"
   },
   "source": [
    "Notice that after we observed $X$ occur, the probability of bugs being absent increased. By increasing the number of tests, we can approach confidence (probability 1) that there are no bugs present.\n",
    "\n",
    "This was a very simple example of Bayesian inference and Bayes rule. Unfortunately, the mathematics necessary to perform more complicated Bayesian inference only becomes more difficult, except for artificially constructed cases. We will later see that this type of mathematical analysis is actually unnecessary. First we must broaden our modeling tools. The next section deals with probability distributions. If you are already familiar, feel free to skip (or at least skim), but for the less familiar the next section is essential."
   ]
  },
  {
   "cell_type": "markdown",
   "metadata": {
    "colab_type": "text",
    "deletable": true,
    "editable": true,
    "id": "2zNt6157C0Cr"
   },
   "source": [
    "## Probability Distributions\n",
    "Let's quickly recall what a probability distribution is: Let $Z$ be some random variable. Then associated with $Z$ is a probability distribution function that assigns probabilities to the different outcomes $Z$ can take. Graphically, a probability distribution is a curve where the probability of an outcome is proportional to the height of the curve. You can see examples in the first figure of this chapter.\n",
    "\n",
    "We can divide random variables into three classifications:\n",
    "\n",
    "*  $Z$ is discrete: Discrete random variables may only assume values on a specified list. Things like populations, movie ratings, and number of votes are all discrete random variables. Discrete random variables become more clear when we contrast them with...\n",
    "\n",
    "* $Z$ is continuous: Continuous random variable can take on arbitrarily exact values. For example, temperature, speed, time, color are all modeled as continuous variables because you can progressively make the values more and more precise.\n",
    "\n",
    "* $Z$ is mixed: Mixed random variables assign probabilities to both discrete and continuous random variables, i.e. it is a combination of the above two categories.\n",
    "\n",
    "\n"
   ]
  },
  {
   "cell_type": "markdown",
   "metadata": {
    "colab_type": "text",
    "deletable": true,
    "editable": true,
    "id": "xG03a_sgDRlc"
   },
   "source": [
    "### Discrete Case\n",
    "\n",
    "If $Z$ is discrete, then its distribution is called a *probability mass function*, which measures the probability $Z$ takes on the value $k$, denoted $P(Z=k)$. Note that the probability mass function completely describes the random variable $Z$, that is, if we know the mass function, we know how $Z$ should behave. There are popular probability mass functions that consistently appear: we will introduce them as needed, but let's introduce the first very useful probability mass function. We say $Z$ is *Poisson*-distributed if:\n",
    " \n",
    "$$P(Z = k) =\\frac{ \\lambda^k e^{-\\lambda} }{k!}, \\; \\; k=0,1,2, \\dots $$\n",
    "\n",
    "\n",
    "$\\lambda$ is called a parameter of the distribution, and it controls the distribution's shape. For the Poisson distribution, $\\lambda$ can be any positive number. By increasing $\\lambda$, we add more probability to larger values, and conversely by decreasing $\\lambda$ we add more probability to smaller values. One can describe $\\lambda$ as the *intensity* of the Poisson distribution. \n",
    "\n",
    "Unlike $\\lambda$, which can be any positive number, the value $k$ in the above formula must be a non-negative integer, i.e., $k$ must take on values 0,1,2, and so on. This is very important, because if you wanted to model a population you could not make sense of populations with 4.25 or 5.612 members. \n",
    "\n",
    "\n",
    "If a random variable $Z$ has a Poisson mass distribution, we denote this by writing\n",
    " \n",
    "$$Z \\sim \\text{Poi}(\\lambda) $$\n",
    " \n",
    "One useful property of the Poisson distribution is that its expected value is equal to its parameter, i.e.:\n",
    "\n",
    "$$E\\large[ \\;Z\\; | \\; \\lambda \\;\\large] = \\lambda $$\n",
    "\n",
    "\n",
    "We will use this property often, so it's useful to remember. Below, we plot the probability mass distribution for different $\\lambda$ values. The first thing to notice is that by increasing $\\lambda$, we add more probability of larger values occurring. Second, notice that although the graph ends at 15, the distributions do not. They assign positive probability to every non-negative integer."
   ]
  },
  {
   "cell_type": "code",
   "execution_count": null,
   "metadata": {
    "colab": {
     "base_uri": "https://localhost:8080/",
     "height": 296
    },
    "colab_type": "code",
    "collapsed": false,
    "deletable": true,
    "editable": true,
    "id": "kf1kteIgEOfJ",
    "outputId": "ff61eef7-b827-4ed6-d442-12b9c31c874f"
   },
   "outputs": [],
   "source": [
    "# Build graph.\n",
    "grid_of_days = tf.range(start=0., limit=16.)\n",
    "texts_per_day = tf.constant([1.5, 4.25])\n",
    "text_count_probs = tfp.distributions.Poisson(\n",
    "  rate=texts_per_day[:, tf.newaxis]).prob(grid_of_days)\n",
    "\n",
    "# Execute graph\n",
    "[\n",
    "  grid_of_days_,\n",
    "  texts_per_day_,\n",
    "  text_count_probs_,\n",
    "] = evaluate([\n",
    "  grid_of_days,\n",
    "  texts_per_day,\n",
    "  text_count_probs,\n",
    "])\n",
    "\n",
    "\n",
    "# Display results\n",
    "plt.figure(figsize=(12.5, 4))\n",
    "colours = [TFColor[0], TFColor[3]]\n",
    "plt.bar(grid_of_days_,\n",
    "        text_count_probs_[0],\n",
    "        color=colours[0],\n",
    "        label=r\"$\\lambda = %.1f$\" % texts_per_day_[0], alpha=0.60,\n",
    "        edgecolor=colours[0], lw=\"3\")\n",
    "\n",
    "plt.bar(grid_of_days_,\n",
    "        text_count_probs_[1],\n",
    "        color=colours[1],\n",
    "        label=r\"$\\lambda = %.1f$\" % texts_per_day_[1], alpha=0.60,\n",
    "        edgecolor=colours[1], lw=\"3\")\n",
    "\n",
    "plt.xticks(grid_of_days_ + 0.4, grid_of_days_)\n",
    "plt.legend()\n",
    "plt.ylabel(r\"probability of $k$\")\n",
    "plt.xlabel(r\"$k$\")\n",
    "plt.title(r\"Probability mass function of a Poisson random variable; differing $\\lambda$ values\");"
   ]
  },
  {
   "cell_type": "markdown",
   "metadata": {
    "colab_type": "text",
    "deletable": true,
    "editable": true,
    "id": "ipS19FlBEmqK"
   },
   "source": [
    "### Continuous Case\n",
    "\n",
    "Instead of a probability mass function, a continuous random variable has a *probability density function*. This might seem like unnecessary nomenclature, but the density function and the mass function are very different creatures. An example of continuous random variable is a random variable with *exponential density*. The density function for an exponential random variable looks like this:\n",
    "\n",
    "$$f_Z(z | \\lambda) = \\lambda e^{-\\lambda z }, \\;\\; z\\ge 0$$\n",
    " \n",
    "Like a Poisson random variable, an exponential random variable can take on only non-negative values. But unlike a Poisson variable, the exponential can take on *any* non-negative values, including non-integral values such as 4.25 or 5.612401. This property makes it a poor choice for count data, which must be an integer, but a great choice for time data, temperature data (measured in Kelvins, of course), or any other precise *and positive* variable. The graph below shows two probability density functions with different $\\lambda$ values. \n",
    "\n",
    "When a random variable $Z$ has an exponential distribution with parameter $\\lambda$, we say *$Z$ is exponential* and write\n",
    "\n",
    "$$Z \\sim \\text{Exp}(\\lambda)$$\n",
    " \n",
    "Given a specific $\\lambda$, the expected value of an exponential random variable is equal to the inverse of $\\lambda$, that is:\n",
    "\n",
    "$$E[\\; Z \\;|\\; \\lambda \\;] = \\frac{1}{\\lambda}$$"
   ]
  },
  {
   "cell_type": "code",
   "execution_count": null,
   "metadata": {
    "colab": {
     "base_uri": "https://localhost:8080/",
     "height": 296
    },
    "colab_type": "code",
    "collapsed": false,
    "deletable": true,
    "editable": true,
    "id": "o1aeMH4VE9xs",
    "outputId": "c74c6b6b-5409-4f36-dda3-9a8fd690b47d"
   },
   "outputs": [],
   "source": [
    "# Defining our Data and assumptions (use tf.linspace for continuous)\n",
    "a = tf.range(start=0., limit=4., delta=0.04)\n",
    "a = a[..., tf.newaxis]\n",
    "lambdas = tf.constant([0.5, 1.])\n",
    "\n",
    "# Now we use TFP to compute probabilities in a vectorized manner.\n",
    "pdf_at_z = tfp.distributions.Exponential(rate=lambdas).prob(a)\n",
    "\n",
    "# Convert from TF to numpy\n",
    "[\n",
    "    a_,\n",
    "    lambdas_,\n",
    "    pdf_at_z_,\n",
    "] = evaluate([\n",
    "    a,\n",
    "    lambdas,\n",
    "    pdf_at_z,\n",
    "])\n",
    "\n",
    "# Visualizing our results\n",
    "plt.figure(figsize=(12.5, 4))\n",
    "for i in range(lambdas_.size):\n",
    "    plt.plot(a_.T[0], pdf_at_z_.T[[i]][0],\n",
    "             lw=3, color=TFColor[i], label=r\"$\\lambda = %.1f$\" % lambdas_[i])\n",
    "    plt.fill_between(a_.T[0], pdf_at_z_.T[[i]][0],\n",
    "                         color=TFColor[i], alpha=.33)\n",
    "plt.legend()\n",
    "plt.ylabel(\"PDF at $z$\")\n",
    "plt.xlabel(\"$z$\")\n",
    "plt.ylim(0,1.2)\n",
    "plt.title(r\"Probability density function of an Exponential random variable; differing $\\lambda$\");\n"
   ]
  },
  {
   "cell_type": "markdown",
   "metadata": {
    "colab_type": "text",
    "deletable": true,
    "editable": true,
    "id": "_1fhqQhAFLkk"
   },
   "source": [
    " \n",
    "## But what is $\\lambda \\;$?\n",
    "\n",
    "**This question is what motivates statistics**. In the real world, $\\lambda$ is hidden from us. We see only $Z$, and must go backwards to try and determine $\\lambda$. The problem is difficult because there is no one-to-one mapping from $Z$ to $\\lambda$. Many different methods have been created to solve the problem of estimating $\\lambda$, but since $\\lambda$ is never actually observed, no one can say for certain which method is best! \n",
    "\n",
    "Bayesian inference is concerned with *beliefs* about what $\\lambda$ might be. Rather than try to guess $\\lambda$ exactly, we can only talk about what $\\lambda$ is likely to be by assigning a probability distribution to $\\lambda$.\n",
    " \n",
    "This might seem odd at first. After all, $\\lambda$ is fixed; it is not (necessarily) random! How can we assign probabilities to values of a non-random variable? Ah, we have fallen for our old, frequentist way of thinking. Recall that under Bayesian philosophy, we *can* assign probabilities if we interpret them as beliefs. And it is entirely acceptable to have *beliefs* about the parameter $\\lambda$. \n"
   ]
  },
  {
   "cell_type": "markdown",
   "metadata": {
    "colab_type": "text",
    "deletable": true,
    "editable": true,
    "id": "JrRddMMfHHKJ"
   },
   "source": [
    " \n",
    "#### Example: Inferring behaviour from text-message data\n",
    " \n",
    "Let's try to model a more interesting example, one that concerns the rate at which a user sends and receives text messages:\n",
    "\n",
    ">  You are given a series of daily text-message counts from a user of your system. The data, plotted over time, appears in the chart below. You are curious to know if the user's text-messaging habits have changed over time, either gradually or suddenly. How can you model this? (This is in fact my own text-message data. Judge my popularity as you wish.)\n",
    "\n"
   ]
  },
  {
   "cell_type": "code",
   "execution_count": null,
   "metadata": {
    "colab": {
     "base_uri": "https://localhost:8080/",
     "height": 311
    },
    "colab_type": "code",
    "collapsed": false,
    "deletable": true,
    "editable": true,
    "id": "cOBOnwa2IIaB",
    "outputId": "8c2b9172-944e-4f08-87ad-fe5e562e21f5"
   },
   "outputs": [],
   "source": [
    "# Defining our Data and assumptions\n",
    "count_data = tf.constant([\n",
    "    13,  24,   8,  24,   7,  35,  14,  11,  15,  11,  22,  22,  11,  57,  \n",
    "    11,  19,  29,   6,  19,  12,  22,  12,  18,  72,  32,   9,   7,  13,  \n",
    "    19,  23,  27,  20,   6,  17,  13,  10,  14,   6,  16,  15,   7,   2,  \n",
    "    15,  15,  19,  70,  49,   7,  53,  22,  21,  31,  19,  11,  18,  20,  \n",
    "    12,  35,  17,  23,  17,   4,   2,  31,  30,  13,  27,   0,  39,  37,   \n",
    "    5,  14,  13,  22,\n",
    "], dtype=tf.float32)\n",
    "count_data_mean = tf.reduce_mean(count_data)\n",
    "n_count_data = tf.shape(count_data)\n",
    "count_of_text_msgs = tf.range(n_count_data[0])\n",
    "\n",
    "# Convert from TF to numpy.\n",
    "\n",
    "[\n",
    "    count_data_, \n",
    "    count_data_mean_,\n",
    "    n_count_data_, \n",
    "    count_of_text_msgs_,\n",
    "] = evaluate([\n",
    "    count_data, \n",
    "    count_data_mean,\n",
    "    n_count_data,\n",
    "    count_of_text_msgs,\n",
    "])\n",
    "\n",
    "# Visualizing the Results\n",
    "    \n",
    "plt.figure(figsize=(12.5, 4))\n",
    "plt.bar(count_of_text_msgs_, count_data_, color=\"#5DA5DA\")\n",
    "plt.xlabel(\"Time (days)\")\n",
    "plt.ylabel(\"count of text-msgs received\")\n",
    "plt.title(\"Did the user's texting habits change over time?\")\n",
    "plt.xlim(0, n_count_data_[0]);\n",
    "\n",
    "print(\"Count Data Mean: \", count_data_mean_)"
   ]
  },
  {
   "cell_type": "markdown",
   "metadata": {
    "colab_type": "text",
    "deletable": true,
    "editable": true,
    "id": "i-PRmpvsIZKq"
   },
   "source": [
    "\n",
    "Before we start modeling, see what you can figure out just by looking at the chart above. Would you say there was a change in behaviour during this time period? \n",
    " \n",
    "How can we start to model this? Well, as we have conveniently already seen, a Poisson random variable is a very appropriate model for this type of *count* data. Denoting day $i$'s text-message count by $C_i$, \n",
    " \n",
    "$$ C_i \\sim \\text{Poisson}(\\lambda)  $$\n",
    " \n",
    "We are not sure what the value of the $\\lambda$ parameter really is, however. Looking at the chart above, it appears that the rate might become higher late in the observation period, which is equivalent to saying that $\\lambda$ increases at some point during the observations. (Recall that a higher value of $\\lambda$ assigns more probability to larger outcomes. That is, there is a higher probability of many text messages having been sent on a given day.)\n",
    " \n",
    "How can we represent this observation mathematically? Let's assume that on some day during the observation period (call it $\\tau$), the parameter $\\lambda$ suddenly jumps to a higher value. So we really have two $\\lambda$ parameters: one for the period before $\\tau$, and one for the rest of the observation period. In the literature, a sudden transition like this would be called a *switchpoint*:\n",
    " \n",
    "$$\\lambda = \n",
    "\\begin{cases} \\lambda_1  & \\text{if } t \\lt \\tau \\cr\n",
    "\\lambda_2 & \\text{if } t \\ge \\tau\n",
    "\\end{cases}\n",
    "$$\n",
    "\n",
    "If, in reality, no sudden change occurred and indeed $\\lambda_1 = \\lambda_2$, then the $\\lambda$s posterior distributions should look about equal.\n",
    "\n",
    "We are interested in inferring the unknown $\\lambda$s. To use Bayesian inference, we need to assign prior probabilities to the different possible values of $\\lambda$. What would be good prior probability distributions for $\\lambda_1$ and $\\lambda_2$? Recall that $\\lambda$ can be any positive number. As we saw earlier, the *exponential* distribution provides a continuous density function for positive numbers, so it might be a good choice for modeling $\\lambda_i$. But recall that the exponential distribution takes a parameter of its own, so we'll need to include that parameter in our model. Let's call that parameter $\\alpha$.\n",
    "\n",
    "\\begin{align}\n",
    "&\\lambda_1 \\sim \\text{Exp}( \\alpha ) \\\\\\\n",
    "&\\lambda_2 \\sim \\text{Exp}( \\alpha )\n",
    "\\end{align}\n",
    " \n",
    "$\\alpha$ is called a *hyper-parameter* or *parent variable*. In literal terms, it is a parameter that influences other parameters. Our initial guess at $\\alpha$ does not influence the model too strongly, so we have some flexibility in our choice.  A good rule of thumb is to set the exponential parameter equal to the inverse of the average of the count data. Since we're modeling $\\lambda$ using an exponential distribution, we can use the expected value identity shown earlier to get:\n",
    "\n",
    "$$\\frac{1}{N}\\sum_{i=0}^N \\;C_i \\approx E[\\; \\lambda \\; |\\; \\alpha ] = \\frac{1}{\\alpha}$$ \n",
    " \n",
    "An alternative, and something I encourage the reader to try, would be to have two priors: one for each $\\lambda_i$. Creating two exponential distributions with different $\\alpha$ values reflects our prior belief that the rate changed at some point during the observations.\n",
    " \n",
    "What about $\\tau$? Because of the noisiness of the data, it's difficult to pick out a priori when $\\tau$ might have occurred. Instead, we can assign a *uniform prior belief* to every possible day. This is equivalent to saying\n",
    " \n",
    "\\begin{align}\n",
    "& \\tau \\sim \\text{DiscreteUniform(1,70) }\\\\\\\\\n",
    "& \\Rightarrow P( \\tau = k ) = \\frac{1}{70}\n",
    "\\end{align}\n",
    " \n",
    "So after all this, what does our overall prior distribution for the unknown variables look like? Frankly, *it doesn't matter*. What we should understand is that it's an ugly, complicated mess involving symbols only a mathematician could love. And things will only get uglier the more complicated our models become. Regardless, all we really care about is the posterior distribution.\n",
    "\n",
    "We next turn to [TensorFlow Probability](https://tensorflow.org/probability), a Python library for performing Bayesian analysis that is undaunted by the mathematical monster we have created."
   ]
  },
  {
   "cell_type": "markdown",
   "metadata": {
    "colab_type": "text",
    "deletable": true,
    "editable": true,
    "id": "mCz2BozPcYNy"
   },
   "source": [
    "## Introducing our first hammer: TensorFlow Probability\n",
    "\n",
    "TensorFlow Probability (TFP) is a Python library for programming Bayesian analysis. It is intended for data scientists, statisticians, machine learning practitioners, and scientists. Since it is built on the TensorFlow (TF) stack, it brings the runtime benefits of TF to Bayesian analysis. These include write-once run-many (ability to run your development model in production) and speedups via state-of-the-art hardware (GPUs and TPUs). \n",
    "\n",
    "Since TFP is relatively new, the TFP community is actively developing documentation, \n",
    "especially docs and examples that bridge the gap between beginner and hacker. One of this book's main goals is to solve that problem, and also to demonstrate why TFP is so cool.\n",
    "\n",
    "We will model the problem above using TFP. This type of programming is called *probabilistic programming*, an unfortunate misnomer that invokes ideas of randomly-generated code and has likely confused and frightened users away from this field. The code is not random; it is probabilistic in the sense that we create probability models using programming variables as the model's components. \n",
    "\n",
    "B. Cronin [[4]](#scrollTo=nDdph0r1ABCn) has a very motivating description of probabilistic programming:\n",
    "\n",
    ">   Another way of thinking about this: unlike a traditional program, which only runs in the forward directions, a probabilistic program is run in both the forward and backward direction. It runs forward to compute the consequences of the assumptions it contains about the world (i.e., the model space it represents), but it also runs backward from the data to constrain the possible explanations. In practice, many probabilistic programming systems will cleverly interleave these forward and backward operations to efficiently home in on the best explanations.\n",
    "\n",
    "Because of the confusion engendered by the term *probabilistic programming*, I'll refrain from using it. Instead, I'll simply say *programming*, since that's what it really is. \n",
    " \n",
    "TFP code is easy to read. The only novel thing should be the syntax. Simply remember that we are representing the model's components ($\\tau, \\lambda_1, \\lambda_2$ ) as variables."
   ]
  },
  {
   "cell_type": "markdown",
   "metadata": {
    "colab_type": "text",
    "deletable": true,
    "editable": true,
    "id": "gYVjgZQ3hOw-"
   },
   "source": [
    "## Specify the joint log-density\n",
    "\n",
    "We'll assume the data is a consequence of the following generative model:\n",
    "\n",
    "$$\\begin{align*}\n",
    "\\lambda_{1}^{(0)} &\\sim \\text{Exponential}(\\text{rate}=\\alpha) \\\\\n",
    "\\lambda_{2}^{(0)} &\\sim \\text{Exponential}(\\text{rate}=\\alpha) \\\\\n",
    "\\tau &\\sim \\text{Uniform}[\\text{low}=0,\\text{high}=1) \\\\\n",
    "\\text{for }  i &= 1\\ldots N: \\\\\n",
    "\\lambda_i &= \\begin{cases} \\lambda_{1}^{(0)}, & \\tau > i/N \\\\ \\lambda_{2}^{(0)}, & \\text{otherwise}\\end{cases}\\\\\n",
    " X_i &\\sim \\text{Poisson}(\\text{rate}=\\lambda_i)\n",
    "\\end{align*}$$\n",
    "\n",
    "Happily, this model can be easily implemented using TF and TFP's distributions:\n",
    "\n",
    "\n",
    "This code creates a new function `lambda_`, but really we can think of it as a random variable: the random variable $\\lambda$ from above. The [gather](https://https://www.tensorflow.org/api_docs/python/tf/gather) function assigns `lambda_1` or `lambda_2` as the value of `lambda_`, depending on what side of `tau` we are on. The values of `lambda_` up until `tau` are `lambda_1` and the values afterwards are `lambda_2`.\n",
    "\n",
    "Note that because `lambda_1`, `lambda_2` and `tau` are random, `lambda_` will be random. We are **not** fixing any variables yet.\n"
   ]
  },
  {
   "cell_type": "code",
   "execution_count": null,
   "metadata": {
    "colab": {},
    "colab_type": "code",
    "collapsed": true,
    "deletable": true,
    "editable": true,
    "id": "rYc_bbho-QzH"
   },
   "outputs": [],
   "source": [
    "def joint_log_prob(count_data, lambda_1, lambda_2, tau):\n",
    "     tfd = tfp.distributions\n",
    " \n",
    "     alpha = np.array(1. / count_data.mean(), np.float32)\n",
    "     rv_lambda_1 = tfd.Exponential(rate=alpha)\n",
    "     rv_lambda_2 = tfd.Exponential(rate=alpha)\n",
    " \n",
    "     rv_tau = tfd.Uniform()\n",
    " \n",
    "     lambda_ = tf.gather(\n",
    "         [lambda_1, lambda_2],\n",
    "         indices=tf.to_int32(tau * count_data.size <= np.arange(count_data.size)))\n",
    "     rv_observation = tfd.Poisson(rate=lambda_)\n",
    " \n",
    "     return (\n",
    "         rv_lambda_1.log_prob(lambda_1)\n",
    "         + rv_lambda_2.log_prob(lambda_2)\n",
    "         + rv_tau.log_prob(tau)\n",
    "         + tf.reduce_sum(rv_observation.log_prob(count_data))\n",
    "     )"
   ]
  },
  {
   "cell_type": "markdown",
   "metadata": {
    "colab_type": "text",
    "deletable": true,
    "editable": true,
    "id": "t7Vvrj68jsr7"
   },
   "source": [
    "Notice that the implementation is arguably very close to being a 1:1 translation of the mathematical model. The main difference is merely that once we've specified the probabilistic model, we return the sum of the log_probs."
   ]
  },
  {
   "cell_type": "markdown",
   "metadata": {
    "colab_type": "text",
    "deletable": true,
    "editable": true,
    "id": "KnyDyY8Tjyiy"
   },
   "source": [
    "## Specify the posterior sampler"
   ]
  },
  {
   "cell_type": "markdown",
   "metadata": {
    "colab_type": "text",
    "deletable": true,
    "editable": true,
    "id": "CGreTr4ljwuF"
   },
   "source": [
    "The code below will be explained in Chapter 3, but we show it here so you can see where our results come from. One can think of it as a *learning* step. The machinery being employed is called *Markov Chain Monte Carlo* (MCMC), which we also delay explaining until Chapter 3. This technique returns thousands of random variables from the posterior distributions of $\\lambda_1, \\lambda_2$ and $\\tau$. We can plot a histogram of the random variables to see what the posterior distributions look like. Below, we collect the samples (called *traces* in the MCMC literature) into histograms."
   ]
  },
  {
   "cell_type": "code",
   "execution_count": null,
   "metadata": {
    "colab": {},
    "colab_type": "code",
    "collapsed": true,
    "deletable": true,
    "editable": true,
    "id": "YBCXrK9gj8Gx"
   },
   "outputs": [],
   "source": [
    "# Set the chain's start state.\n",
    "initial_chain_state = [\n",
    "    tf.to_float(tf.reduce_mean(count_data)) * tf.ones([], dtype=tf.float32, name=\"init_lambda1\"),\n",
    "    tf.to_float(tf.reduce_mean(count_data)) * tf.ones([], dtype=tf.float32, name=\"init_lambda2\"),\n",
    "    0.5 * tf.ones([], dtype=tf.float32, name=\"init_tau\"),\n",
    "]\n",
    "\n",
    "\n",
    "# Since HMC operates over unconstrained space, we need to transform the\n",
    "# samples so they live in real-space.\n",
    "unconstraining_bijectors = [\n",
    "    tfp.bijectors.Exp(),       # Maps a positive real to R.\n",
    "    tfp.bijectors.Exp(),       # Maps a positive real to R.\n",
    "    tfp.bijectors.Sigmoid(),   # Maps [0,1] to R.  \n",
    "]\n",
    "\n",
    "\n",
    "def joint_log_prob(count_data, lambda_1, lambda_2, tau):\n",
    "     tfd = tfp.distributions\n",
    " \n",
    "     alpha = (1. / tf.reduce_mean(count_data))\n",
    "     rv_lambda_1 = tfd.Exponential(rate=alpha)\n",
    "     rv_lambda_2 = tfd.Exponential(rate=alpha)\n",
    " \n",
    "     rv_tau = tfd.Uniform()\n",
    " \n",
    "\n",
    "     lambda_ = tf.gather(\n",
    "         [lambda_1, lambda_2],\n",
    "         indices=tf.to_int32(tau * tf.to_float(tf.size(count_data)) <= tf.to_float(tf.range(tf.size(count_data)))))\n",
    "     rv_observation = tfd.Poisson(rate=lambda_)\n",
    " \n",
    "     return (\n",
    "         rv_lambda_1.log_prob(lambda_1)\n",
    "         + rv_lambda_2.log_prob(lambda_2)\n",
    "         + rv_tau.log_prob(tau)\n",
    "         + tf.reduce_sum(rv_observation.log_prob(count_data))\n",
    "     )\n",
    "\n",
    "\n",
    "# Define a closure over our joint_log_prob.\n",
    "def unnormalized_log_posterior(lambda1, lambda2, tau):\n",
    "    return joint_log_prob(count_data, lambda1, lambda2, tau)\n",
    "\n",
    "\n",
    "# Initialize the step_size. (It will be automatically adapted.)\n",
    "with tf.variable_scope(tf.get_variable_scope(), reuse=tf.AUTO_REUSE):\n",
    "    step_size = tf.get_variable(\n",
    "        name='step_size',\n",
    "        initializer=tf.constant(0.05, dtype=tf.float32),\n",
    "        trainable=False,\n",
    "        use_resource=True\n",
    "    )\n",
    "\n",
    "# Sample from the chain.\n",
    "[\n",
    "    lambda_1_samples,\n",
    "    lambda_2_samples,\n",
    "    posterior_tau,\n",
    "], kernel_results = tfp.mcmc.sample_chain(\n",
    "    num_results=100000,\n",
    "    num_burnin_steps=10000,\n",
    "    current_state=initial_chain_state,\n",
    "    kernel=tfp.mcmc.TransformedTransitionKernel(\n",
    "        inner_kernel=tfp.mcmc.HamiltonianMonteCarlo(\n",
    "            target_log_prob_fn=unnormalized_log_posterior,\n",
    "            num_leapfrog_steps=2,\n",
    "            step_size=step_size,\n",
    "            step_size_update_fn=tfp.mcmc.make_simple_step_size_update_policy(),\n",
    "            state_gradients_are_stopped=True),\n",
    "        bijector=unconstraining_bijectors))\n",
    "\n",
    "tau_samples = tf.floor(posterior_tau * tf.to_float(tf.size(count_data)))\n",
    "\n",
    "# tau_samples, lambda_1_samples, lambda_2_samples contain\n",
    "# N samples from the corresponding posterior distribution\n",
    "N = tf.shape(tau_samples)[0]\n",
    "expected_texts_per_day = tf.zeros(n_count_data)\n",
    "\n",
    "\n",
    "# Initialize any created variables.\n",
    "init_g = tf.global_variables_initializer()\n",
    "init_l = tf.local_variables_initializer()\n"
   ]
  },
  {
   "cell_type": "markdown",
   "metadata": {
    "colab_type": "text",
    "deletable": true,
    "editable": true,
    "id": "N1mb2NDUkJLU"
   },
   "source": [
    "## Executing the TF graph to sample from the posterior"
   ]
  },
  {
   "cell_type": "code",
   "execution_count": null,
   "metadata": {
    "colab": {
     "base_uri": "https://localhost:8080/",
     "height": 51
    },
    "colab_type": "code",
    "collapsed": false,
    "deletable": true,
    "editable": true,
    "id": "NpNv545ZkLjb",
    "outputId": "3ed9d969-b1b0-4f9f-b389-2c7e4f607ec5"
   },
   "outputs": [],
   "source": [
    "evaluate(init_g)\n",
    "evaluate(init_l)\n",
    "[\n",
    "    lambda_1_samples_,\n",
    "    lambda_2_samples_,\n",
    "    tau_samples_,\n",
    "    kernel_results_,\n",
    "    N_,\n",
    "    expected_texts_per_day_,\n",
    "] = evaluate([\n",
    "    lambda_1_samples,\n",
    "    lambda_2_samples,\n",
    "    tau_samples,\n",
    "    kernel_results,\n",
    "    N,\n",
    "    expected_texts_per_day,\n",
    "])\n",
    "\n",
    "    \n",
    "print(\"acceptance rate: {}\".format(\n",
    "    kernel_results_.inner_results.is_accepted.mean()))\n",
    "print(\"final step size: {}\".format(\n",
    "    kernel_results_.inner_results.extra.step_size_assign[-100:].mean()))\n",
    "\n"
   ]
  },
  {
   "cell_type": "markdown",
   "metadata": {
    "colab_type": "text",
    "deletable": true,
    "editable": true,
    "id": "vIxEqx9qkhWr"
   },
   "source": [
    "## Plot the Results"
   ]
  },
  {
   "cell_type": "code",
   "execution_count": null,
   "metadata": {
    "colab": {
     "base_uri": "https://localhost:8080/",
     "height": 896
    },
    "colab_type": "code",
    "collapsed": false,
    "deletable": true,
    "editable": true,
    "id": "viLRm6DEkRPM",
    "outputId": "e4631e19-8618-4608-87a1-a8f01272576f"
   },
   "outputs": [],
   "source": [
    "plt.figure(figsize=(12.5, 15))\n",
    "#histogram of the samples:\n",
    "\n",
    "ax = plt.subplot(311)\n",
    "ax.set_autoscaley_on(False)\n",
    "\n",
    "plt.hist(lambda_1_samples_, histtype='stepfilled', bins=30, alpha=0.85,\n",
    "         label=r\"posterior of $\\lambda_1$\", color=TFColor[0], normed=True)\n",
    "plt.legend(loc=\"upper left\")\n",
    "plt.title(r\"\"\"Posterior distributions of the variables $\\lambda_1,\\;\\lambda_2,\\;\\tau$\"\"\")\n",
    "plt.xlim([15, 30])\n",
    "plt.xlabel(r\"$\\lambda_1$ value\")\n",
    "\n",
    "ax = plt.subplot(312)\n",
    "ax.set_autoscaley_on(False)\n",
    "plt.hist(lambda_2_samples_, histtype='stepfilled', bins=30, alpha=0.85,\n",
    "         label=r\"posterior of $\\lambda_2$\", color=TFColor[6], normed=True)\n",
    "plt.legend(loc=\"upper left\")\n",
    "plt.xlim([15, 30])\n",
    "plt.xlabel(r\"$\\lambda_2$ value\")\n",
    "\n",
    "plt.subplot(313)\n",
    "w = 1.0 / tau_samples_.shape[0] * np.ones_like(tau_samples_)\n",
    "plt.hist(tau_samples_, bins=n_count_data_[0], alpha=1,\n",
    "         label=r\"posterior of $\\tau$\",\n",
    "         color=TFColor[2], weights=w, rwidth=2.)\n",
    "plt.xticks(np.arange(n_count_data_[0]))\n",
    "\n",
    "plt.legend(loc=\"upper left\")\n",
    "plt.ylim([0, .75])\n",
    "plt.xlim([35, len(count_data_)-20])\n",
    "plt.xlabel(r\"$\\tau$ (in days)\")\n",
    "plt.ylabel(r\"probability\");"
   ]
  },
  {
   "cell_type": "markdown",
   "metadata": {
    "colab_type": "text",
    "deletable": true,
    "editable": true,
    "id": "FfiTXgF80sDA"
   },
   "source": [
    "## Interpretation\n",
    "\n",
    "Recall that Bayesian methodology returns a *distribution*. Hence we now have distributions to describe the unknown $\\lambda$s and $\\tau$. What have we gained? Immediately, we can see the uncertainty in our estimates: the wider the distribution, the less certain our posterior belief should be. We can also see what the plausible values for the parameters are: $\\lambda_1$ is around 18 and $\\lambda_2$ is around 23. The posterior distributions of the two $\\lambda$s are clearly distinct, indicating that it is indeed likely that there was a change in the user's text-message behaviour.\n",
    "\n",
    "What other observations can you make? If you look at the original data again, do these results seem reasonable? \n",
    "\n",
    "Notice also that the posterior distributions for the $\\lambda$s do not look like exponential distributions, even though our priors for these variables were exponential. In fact, the posterior distributions are not really of any form that we recognize from the original model. But that's OK! This is one of the benefits of taking a computational point of view. If we had instead done this analysis using mathematical approaches, we would have been stuck with an analytically intractable (and messy) distribution. Our use of a computational approach makes us indifferent to mathematical tractability.\n",
    " \n",
    "Our analysis also returned a distribution for $\\tau$. Its posterior distribution looks a little different from the other two because it is a discrete random variable, so it doesn't assign probabilities to intervals. We can see that near day 45, there was a 50% chance that the user's behaviour changed. Had no change occurred, or had the change been gradual over time, the posterior distribution of $\\tau$ would have been more spread out, reflecting that many days were plausible candidates for $\\tau$. By contrast, in the actual results we see that only three or four days make any sense as potential transition points. \n",
    "\n",
    "### Why would I want samples from the posterior, anyways?\n",
    "\n",
    "We will deal with this question for the remainder of the book, and it is an understatement to say that it will lead us to some amazing results. For now, let's end this chapter with one more example.\n",
    "\n",
    "We'll use the posterior samples to answer the following question: what is the expected number of texts at day $t, \\; 0 \\le t \\le 70$ ? Recall that the expected value of a Poisson variable is equal to its parameter $\\lambda$. Therefore, the question is equivalent to *what is the expected value of $\\lambda$ at time $t$*?\n",
    " \n",
    "In the code below, let $i$ index samples from the posterior distributions. Given a day $t$, we average over all possible $\\lambda_i$ for that day $t$, using $\\lambda_i = \\lambda_{1,i}$ if $t \\lt \\tau_i$ (that is, if the behaviour change has not yet occurred), else we use $\\lambda_i = \\lambda_{2,i}$. \n"
   ]
  },
  {
   "cell_type": "code",
   "execution_count": null,
   "metadata": {
    "colab": {
     "base_uri": "https://localhost:8080/",
     "height": 566
    },
    "colab_type": "code",
    "collapsed": false,
    "deletable": true,
    "editable": true,
    "id": "DgNkjkmO1h4I",
    "outputId": "4064fd45-1e63-43dc-dff0-fe850cd0463c"
   },
   "outputs": [],
   "source": [
    "plt.figure(figsize=(12.5, 9))\n",
    "\n",
    "for day in range(0, n_count_data_[0]):\n",
    "    # ix is a bool index of all tau samples corresponding to\n",
    "    # the switchpoint occurring prior to value of 'day'\n",
    "    ix = day < tau_samples_\n",
    "    # Each posterior sample corresponds to a value for tau.\n",
    "    # for each day, that value of tau indicates whether we're \"before\"\n",
    "    # (in the lambda1 \"regime\") or\n",
    "    #  \"after\" (in the lambda2 \"regime\") the switchpoint.\n",
    "    # by taking the posterior sample of lambda1/2 accordingly, we can average\n",
    "    # over all samples to get an expected value for lambda on that day.\n",
    "    # As explained, the \"message count\" random variable is Poisson distributed,\n",
    "    # and therefore lambda (the poisson parameter) is the expected value of\n",
    "    # \"message count\".\n",
    "    expected_texts_per_day_[day] = (lambda_1_samples_[ix].sum()\n",
    "                                   + lambda_2_samples_[~ix].sum()) / N_\n",
    "\n",
    "\n",
    "plt.plot(range(n_count_data_[0]), expected_texts_per_day_, lw=4, color=\"#E24A33\",\n",
    "         label=\"expected number of text-messages received\")\n",
    "plt.xlim(0, n_count_data_[0])\n",
    "plt.xlabel(\"Day\")\n",
    "plt.ylabel(\"Expected # text-messages\")\n",
    "plt.title(\"Expected number of text-messages received\")\n",
    "plt.ylim(0, 60)\n",
    "plt.bar(np.arange(len(count_data_)), count_data_, color=\"#5DA5DA\", alpha=0.65,\n",
    "        label=\"observed texts per day\")\n",
    "\n",
    "plt.legend(loc=\"upper left\");"
   ]
  },
  {
   "cell_type": "markdown",
   "metadata": {
    "colab_type": "text",
    "deletable": true,
    "editable": true,
    "id": "cgCrDy8M3IZT"
   },
   "source": [
    "Our analysis shows strong support for believing the user's behavior did change ($\\lambda_1$ would have been close in value to $\\lambda_2$ had this not been true), and that the change was sudden rather than gradual (as demonstrated by $\\tau$'s strongly peaked posterior distribution). We can speculate what might have caused this: a cheaper text-message rate, a recent weather-to-text subscription, or perhaps a new relationship. (In fact, the 45th day corresponds to Christmas, and I moved away to Toronto the next month, leaving a girlfriend behind.)\n",
    "\n",
    "\n",
    "## Exercises\n",
    " \n",
    "1.   Using `lambda_1_samples` and `lambda_2_samples`, what is the mean of the posterior distributions of $\\lambda_1$ and $\\lambda_2$?\n",
    "\n"
   ]
  },
  {
   "cell_type": "code",
   "execution_count": null,
   "metadata": {
    "colab": {},
    "colab_type": "code",
    "collapsed": true,
    "deletable": true,
    "editable": true,
    "id": "ddpQzca9ACJF"
   },
   "outputs": [],
   "source": [
    "#type your code here."
   ]
  },
  {
   "cell_type": "markdown",
   "metadata": {
    "colab_type": "text",
    "deletable": true,
    "editable": true,
    "id": "p4krLq5J_356"
   },
   "source": [
    "2.   What is the expected percentage increase in text-message rates? `hint:` compute the mean of `lambda_1_samples/lambda_2_samples`. Note that this quantity is very different from `lambda_1_samples.mean()/lambda_2_samples.mean()`"
   ]
  },
  {
   "cell_type": "code",
   "execution_count": null,
   "metadata": {
    "colab": {},
    "colab_type": "code",
    "collapsed": true,
    "deletable": true,
    "editable": true,
    "id": "qWoCGbmEAEvb"
   },
   "outputs": [],
   "source": [
    "#type your code here."
   ]
  },
  {
   "cell_type": "markdown",
   "metadata": {
    "colab_type": "text",
    "deletable": true,
    "editable": true,
    "id": "vGHVkSlp_9zf"
   },
   "source": [
    "3. What is the mean of $\\lambda_1$ **given** that we know $\\tau$ is less than 45? That is, suppose we have been given new information that the change in behaviour occurred prior to day 45. What is the expected value of $\\lambda_1$ now? (You do not need to redo the TFP part. Just consider all instances where `tau_samples < 45`.)"
   ]
  },
  {
   "cell_type": "code",
   "execution_count": null,
   "metadata": {
    "colab": {},
    "colab_type": "code",
    "collapsed": true,
    "deletable": true,
    "editable": true,
    "id": "worLRhcVAFeK"
   },
   "outputs": [],
   "source": [
    "#type your code here."
   ]
  },
  {
   "cell_type": "markdown",
   "metadata": {
    "colab_type": "text",
    "deletable": true,
    "editable": true,
    "id": "nDdph0r1ABCn"
   },
   "source": [
    "## References\n",
    "\n",
    "[1] Gelman, Andrew. N.p.. Web. 22 Jan 2013. [N is never large enough](http://andrewgelman.com/2005/07/31/n_is_never_larg)\n",
    " \n",
    "[2] Norvig, Peter. 2009. [The Unreasonable Effectiveness of Data](http://static.googleusercontent.com/media/research.google.com/en//pubs/archive/35179.pdf).\n",
    "\n",
    "[3] Jimmy Lin and Alek Kolcz. Large-Scale Machine Learning at Twitter. Proceedings of the 2012 ACM SIGMOD International Conference on Management of Data (SIGMOD 2012), pages 793-804, May 2012, Scottsdale, Arizona.\n",
    "\n",
    "[4] Cronin, Beau. \"Why Probabilistic Programming Matters.\" 24 Mar 2013. Google, Online Posting to Google . Web. 24 Mar. 2013. <https://plus.google.com/u/0/107971134877020469960/posts/KpeRdJKR6Z1>."
   ]
  },
  {
   "cell_type": "code",
   "execution_count": null,
   "metadata": {
    "colab": {},
    "colab_type": "code",
    "collapsed": true,
    "deletable": true,
    "editable": true,
    "id": "FY5Ftmqh3IC6"
   },
   "outputs": [],
   "source": [
    "from IPython.core.display import HTML\n",
    "def css_styling():\n",
    "    styles = open(\"../styles/custom.css\", \"r\").read()\n",
    "    return HTML(styles)\n",
    "css_styling()\n"
   ]
  }
 ],
 "metadata": {
  "accelerator": "GPU",
  "colab": {
   "collapsed_sections": [],
   "name": "Ch1_Introduction_TFP.ipynb",
   "provenance": [],
   "version": "0.3.2"
  },
  "kernelspec": {
   "display_name": "Python 3",
   "language": "python",
   "name": "python3"
  },
  "language_info": {
   "codemirror_mode": {
    "name": "ipython",
    "version": 3
   },
   "file_extension": ".py",
   "mimetype": "text/x-python",
   "name": "python",
   "nbconvert_exporter": "python",
   "pygments_lexer": "ipython3",
   "version": "3.5.2"
  }
 },
 "nbformat": 4,
 "nbformat_minor": 0
}
